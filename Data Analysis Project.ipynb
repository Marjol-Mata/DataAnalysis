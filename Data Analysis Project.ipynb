{
 "cells": [
  {
   "cell_type": "markdown",
   "id": "47553ce9",
   "metadata": {},
   "source": [
    "# Profitable App Profiles for the App Store and Google Play Markets"
   ]
  },
  {
   "cell_type": "markdown",
   "id": "9c5b1ef4",
   "metadata": {},
   "source": [
    "#### My goal in this project is to analyze apps that are free but also profitable from in-app advertisements. This analyzation consists of app data from both the Google Play and Apple App Store markets.\n",
    "\n",
    "Free app revenue is determined by the number of active users of that app. I want to analyze the data and determine what type of apps are profitable to help developers understand the apps categories that are likely to attract the most users.\n",
    "\n",
    "##### Full data can be found:\n",
    "\n",
    "As of 2018 there were 2 million iOS apps on the App Store and 2.1 million on the Google Play Store. To avoid the time and cost of collecting data on 4 million+ apps, we will use sample data from 2 separate data sets:\n",
    "\n",
    "- A [dataset](https://www.kaggle.com/datasets/lava18/google-play-store-apps) containing data about approximately 10,000 Android apps from Google Play;the data was collected in August 2018\n",
    "\n",
    "- A [dataset](https://www.kaggle.com/datasets/ramamet4/app-store-apple-data-set-10k-apps) containing data about approximately 7,000 iOS apps from the App Store; the data was collected in July 2017\n",
    "\n"
   ]
  },
  {
   "cell_type": "markdown",
   "id": "95c98723",
   "metadata": {},
   "source": [
    "#  Exploring our dataset"
   ]
  },
  {
   "cell_type": "markdown",
   "id": "50b9003a",
   "metadata": {},
   "source": [
    "I will start by opening the 2 data sets to prepare for exploration:"
   ]
  },
  {
   "cell_type": "code",
   "execution_count": 2,
   "id": "7bcb1b5b",
   "metadata": {
    "scrolled": true
   },
   "outputs": [],
   "source": [
    "from csv import reader\n",
    "\n",
    "# Google Play\n",
    "opened_file = open('googleplaystore.csv', encoding=\"utf\")\n",
    "read_file = reader(opened_file)\n",
    "android = list(read_file)\n",
    "android_header = android[0]\n",
    "android = android[:]\n",
    "\n",
    "# App Store\n",
    "opened_file = open('AppleStore.csv',  encoding=\"utf\")\n",
    "read_file = reader(opened_file)\n",
    "ios = list(read_file)\n",
    "ios_header = ios[0]\n",
    "ios = ios[:]"
   ]
  },
  {
   "cell_type": "markdown",
   "id": "25aeccca",
   "metadata": {},
   "source": [
    "- I'll write a function to explore the 2 data sets to be used further on in our analysis.\n"
   ]
  },
  {
   "cell_type": "code",
   "execution_count": 3,
   "id": "46ce99f8",
   "metadata": {
    "scrolled": false
   },
   "outputs": [],
   "source": [
    "def explore_data(dataset, start, end, rows_and_columns=False):\n",
    "    dataset_slice = dataset[start:end]    \n",
    "    for row in dataset_slice:\n",
    "        print(row)\n",
    "        print('\\n') # adds a new (empty) line between rows\n",
    "        \n",
    "    if rows_and_columns:\n",
    "        print('Number of rows:', len(dataset))\n",
    "        print('Number of columns:', len(dataset[0]))"
   ]
  },
  {
   "cell_type": "code",
   "execution_count": 4,
   "id": "7361c185",
   "metadata": {},
   "outputs": [
    {
     "name": "stdout",
     "output_type": "stream",
     "text": [
      "['App', 'Category', 'Rating', 'Reviews', 'Size', 'Installs', 'Type', 'Price', 'Content Rating', 'Genres', 'Last Updated', 'Current Ver', 'Android Ver']\n",
      "\n",
      "\n",
      "['App', 'Category', 'Rating', 'Reviews', 'Size', 'Installs', 'Type', 'Price', 'Content Rating', 'Genres', 'Last Updated', 'Current Ver', 'Android Ver']\n",
      "\n",
      "\n",
      "['Photo Editor & Candy Camera & Grid & ScrapBook', 'ART_AND_DESIGN', '4.1', '159', '19M', '10,000+', 'Free', '0', 'Everyone', 'Art & Design', 'January 7, 2018', '1.0.0', '4.0.3 and up']\n",
      "\n",
      "\n",
      "['Coloring book moana', 'ART_AND_DESIGN', '3.9', '967', '14M', '500,000+', 'Free', '0', 'Everyone', 'Art & Design;Pretend Play', 'January 15, 2018', '2.0.0', '4.0.3 and up']\n",
      "\n",
      "\n",
      "Number of rows: 10842\n",
      "Number of columns: 13\n"
     ]
    }
   ],
   "source": [
    "print(android_header)\n",
    "print('\\n')\n",
    "explore_data(android, 0, 3, True)"
   ]
  },
  {
   "cell_type": "markdown",
   "id": "53e51ee6",
   "metadata": {},
   "source": [
    "- Print the column names, and try to identify the columns that could help us with our analysis.\n",
    "Let's examine the App Store data set:"
   ]
  },
  {
   "cell_type": "code",
   "execution_count": 5,
   "id": "f43a339f",
   "metadata": {},
   "outputs": [
    {
     "name": "stdout",
     "output_type": "stream",
     "text": [
      "['track_name', 'size_bytes', 'currency', 'price', 'rating_count_tot', 'rating_count_ver', 'user_rating', 'user_rating_ver', 'ver', 'cont_rating', 'prime_genre', 'sup_devices.num', 'ipadSc_urls.num', 'lang.num', 'vpp_lic']\n",
      "\n",
      "\n",
      "['track_name', 'size_bytes', 'currency', 'price', 'rating_count_tot', 'rating_count_ver', 'user_rating', 'user_rating_ver', 'ver', 'cont_rating', 'prime_genre', 'sup_devices.num', 'ipadSc_urls.num', 'lang.num', 'vpp_lic']\n",
      "\n",
      "\n",
      "['284882215', 'Facebook', '389879808', 'USD', '0.0', '2974676', '212', '3.5', '3.5', '95.0', '4+', 'Social Networking', '37', '1', '29', '1']\n",
      "\n",
      "\n",
      "['389801252', 'Instagram', '113954816', 'USD', '0.0', '2161558', '1289', '4.5', '4.0', '10.23', '12+', 'Photo & Video', '37', '0', '29', '1']\n",
      "\n",
      "\n",
      "Number of rows: 7198\n",
      "Number of columns: 15\n"
     ]
    }
   ],
   "source": [
    "del(ios_header[0])\n",
    "print(ios_header)\n",
    "print('\\n')\n",
    "explore_data(ios, 0, 3, True)"
   ]
  },
  {
   "cell_type": "markdown",
   "id": "1f83e310",
   "metadata": {},
   "source": [
    "##### Nga leximi i te dhenave rezulton se ne 'Apple Store' ka gjithsej 7197 rreshta dhe 16 kolona, nga te cilat me te rendesishme per qellimin tone jane id, track_name, currency, price, user_rating etj.\n",
    "##### Ndersa nga te dhenat e 'Google Play Store' rezulton se ka gjithesej 10842 rreshta dhe 13 kolona, nga te cilat ato me te rendesishme per punen tone jane app, rating, reviews, size, price etj.\n",
    "The Google Play data set has 10,841 rows and 13 columns. Browsing the column names, the ones that appear to be most useful for our analysis are App, Category, Reviews, Installs, Type, Price, and Genres"
   ]
  },
  {
   "cell_type": "markdown",
   "id": "5331594d",
   "metadata": {},
   "source": [
    "##   Preprocessing the Data\n",
    "\n",
    "#### Data cleaning\n",
    "\n",
    "- We do data cleaning before the analysis; it includes removing or correcting wrong data, removing duplicate data, and modifying the data to fit the purpose of our analysis.\n",
    "\n",
    "- Detect inaccurate data, and correct or remove it.\n",
    "\n",
    "The data set for the Google Play apps has a discussion session. A user posted that there is a missing entry for 'Category' on row 10,472. We will print that row below to see if the user is correct."
   ]
  },
  {
   "cell_type": "code",
   "execution_count": 6,
   "id": "b1bab551",
   "metadata": {},
   "outputs": [
    {
     "name": "stdout",
     "output_type": "stream",
     "text": [
      "['Xposed Wi-Fi-Pwd', 'PERSONALIZATION', '3.5', '1042', '404k', '100,000+', 'Free', '0', 'Everyone', 'Personalization', 'August 5, 2014', '3.0.0', '4.0.3 and up']\n",
      "['App', 'Category', 'Rating', 'Reviews', 'Size', 'Installs', 'Type', 'Price', 'Content Rating', 'Genres', 'Last Updated', 'Current Ver', 'Android Ver']\n"
     ]
    }
   ],
   "source": [
    "print(android[10472])\n",
    "print(android_header)"
   ]
  },
  {
   "cell_type": "markdown",
   "id": "0d698bc3",
   "metadata": {},
   "source": [
    "- There is no category for row 10,472. We will delete this row and then print the length of the data set to cofirm that the row is gone. This command should only be run once"
   ]
  },
  {
   "cell_type": "code",
   "execution_count": 7,
   "id": "9150c094",
   "metadata": {},
   "outputs": [
    {
     "name": "stdout",
     "output_type": "stream",
     "text": [
      "10841\n"
     ]
    }
   ],
   "source": [
    "del android[10472]\n",
    "print(len(android))\n"
   ]
  },
  {
   "cell_type": "markdown",
   "id": "60c353d9",
   "metadata": {},
   "source": [
    "- In the iOS data set, the first column is the index for the row. This is not useful to our analysis. I will remove the index column from the data set:"
   ]
  },
  {
   "cell_type": "code",
   "execution_count": 8,
   "id": "a33e9aad",
   "metadata": {},
   "outputs": [
    {
     "name": "stdout",
     "output_type": "stream",
     "text": [
      "['size_bytes', 'currency', 'price', 'rating_count_tot', 'rating_count_ver', 'user_rating', 'user_rating_ver', 'ver', 'cont_rating', 'prime_genre', 'sup_devices.num', 'ipadSc_urls.num', 'lang.num', 'vpp_lic']\n",
      "\n",
      "\n",
      "['Facebook', '389879808', 'USD', '0.0', '2974676', '212', '3.5', '3.5', '95.0', '4+', 'Social Networking', '37', '1', '29', '1']\n",
      "\n",
      "\n",
      "['Instagram', '113954816', 'USD', '0.0', '2161558', '1289', '4.5', '4.0', '10.23', '12+', 'Photo & Video', '37', '0', '29', '1']\n",
      "\n",
      "\n",
      "Number of rows: 7198\n",
      "Number of columns: 14\n"
     ]
    }
   ],
   "source": [
    "for app in ios:\n",
    "    del(app[0])\n",
    "explore_data(ios, 0, 3, True)"
   ]
  },
  {
   "cell_type": "markdown",
   "id": "1e1912ca",
   "metadata": {},
   "source": [
    "## Duplicate Entries\n",
    "#### Some apps in the Google Play data set have more than one entry. For example, if we search for Instagram there are 4 rows for a single app:\n",
    "- Detect duplicate data, and remove the duplicates."
   ]
  },
  {
   "cell_type": "code",
   "execution_count": 9,
   "id": "118fb7a5",
   "metadata": {},
   "outputs": [
    {
     "name": "stdout",
     "output_type": "stream",
     "text": [
      "['Instagram', 'SOCIAL', '4.5', '66577313', 'Varies with device', '1,000,000,000+', 'Free', '0', 'Teen', 'Social', 'July 31, 2018', 'Varies with device', 'Varies with device']\n",
      "['Instagram', 'SOCIAL', '4.5', '66577446', 'Varies with device', '1,000,000,000+', 'Free', '0', 'Teen', 'Social', 'July 31, 2018', 'Varies with device', 'Varies with device']\n",
      "['Instagram', 'SOCIAL', '4.5', '66577313', 'Varies with device', '1,000,000,000+', 'Free', '0', 'Teen', 'Social', 'July 31, 2018', 'Varies with device', 'Varies with device']\n",
      "['Instagram', 'SOCIAL', '4.5', '66509917', 'Varies with device', '1,000,000,000+', 'Free', '0', 'Teen', 'Social', 'July 31, 2018', 'Varies with device', 'Varies with device']\n"
     ]
    }
   ],
   "source": [
    "for app in android:\n",
    "    name = app[0]\n",
    "    if name == 'Instagram':\n",
    "        print(app)"
   ]
  },
  {
   "cell_type": "markdown",
   "id": "8fe3049c",
   "metadata": {},
   "source": [
    "- There are actually 1,181 duplicate apps in the data set:"
   ]
  },
  {
   "cell_type": "code",
   "execution_count": 10,
   "id": "dd18ab60",
   "metadata": {},
   "outputs": [
    {
     "name": "stdout",
     "output_type": "stream",
     "text": [
      "Number of duplicates:  1181\n",
      "\n",
      "\n",
      "Examples of duplicates:  ['Quick PDF Scanner + OCR FREE', 'Box', 'Google My Business', 'ZOOM Cloud Meetings', 'join.me - Simple Meetings', 'Box', 'Zenefits', 'Google Ads', 'Google My Business', 'Slack']\n"
     ]
    }
   ],
   "source": [
    "duplicates = []\n",
    "unique = []\n",
    "\n",
    "for app in android:\n",
    "    name = app[0]\n",
    "    if name in unique:\n",
    "        duplicates.append(name)\n",
    "    else:\n",
    "        unique.append(name)\n",
    "print('Number of duplicates: ', len(duplicates))\n",
    "print('\\n')\n",
    "print('Examples of duplicates: ', duplicates[:10])"
   ]
  },
  {
   "cell_type": "markdown",
   "id": "cd8e6936",
   "metadata": {},
   "source": [
    "### Here we have write the code to remove the duplicate entries.\n",
    "\n",
    "- Examing the duplicate entries for Instagram above shows us the main difference between the entries is in the 4th column which is the number of reviews. Rather than remove entries at random, we'll keep the row with the highest number of reviews as that row will give us the more reliable data.\n",
    "\n",
    "- To achieve this we will create a dictionary consisting of the app name and the max reviews of that app.\n"
   ]
  },
  {
   "cell_type": "code",
   "execution_count": 11,
   "id": "bee3807f",
   "metadata": {
    "scrolled": true
   },
   "outputs": [],
   "source": [
    "max_reviews = {}\n",
    "\n",
    "for app in android:\n",
    "    name = app[0]\n",
    "    n_reviews = app[3]\n",
    "    \n",
    "    if name in max_reviews and max_reviews[name] < n_reviews:\n",
    "        max_reviews[name] = n_reviews\n",
    "    elif name not in max_reviews:\n",
    "        max_reviews[name] = n_reviews"
   ]
  },
  {
   "cell_type": "code",
   "execution_count": 12,
   "id": "b4d18ab4",
   "metadata": {},
   "outputs": [
    {
     "name": "stdout",
     "output_type": "stream",
     "text": [
      "Expected length:  9660\n",
      "Actual length:  9660\n"
     ]
    }
   ],
   "source": [
    "print('Expected length: ', len(android) - 1181)\n",
    "print('Actual length: ', len(max_reviews))"
   ]
  },
  {
   "cell_type": "markdown",
   "id": "99745d4b",
   "metadata": {},
   "source": [
    "We can now use the max_reviews dictionary to remove the duplicate rows throughout the data set. We'll only keep the entries that contain the highest number of reviews.\n",
    "\n",
    "- Create 2 lists, android_clean and already_added\n",
    "- Loop through the app rows\n",
    "- For each row, assign the variable 'name' to the name of the app\n",
    "- Convert the number of reviews to a float and assign to n_reviews\n",
    "- If n_reviews equals the same amount as the max_reviews and name is not alreay in the already_added list, append the row to  android_clean\n",
    "- Append the app name to already_added to keep track of the already added apps"
   ]
  },
  {
   "cell_type": "code",
   "execution_count": 14,
   "id": "6fa74252",
   "metadata": {},
   "outputs": [
    {
     "name": "stdout",
     "output_type": "stream",
     "text": [
      "['App', 'Category', 'Rating', 'Reviews', 'Size', 'Installs', 'Type', 'Price', 'Content Rating', 'Genres', 'Last Updated', 'Current Ver', 'Android Ver']\n",
      "\n",
      "\n",
      "['Photo Editor & Candy Camera & Grid & ScrapBook', 'ART_AND_DESIGN', '4.1', '159', '19M', '10,000+', 'Free', '0', 'Everyone', 'Art & Design', 'January 7, 2018', '1.0.0', '4.0.3 and up']\n",
      "\n",
      "\n",
      "['U Launcher Lite – FREE Live Cool Themes, Hide Apps', 'ART_AND_DESIGN', '4.7', '87510', '8.7M', '5,000,000+', 'Free', '0', 'Everyone', 'Art & Design', 'August 1, 2018', '1.2.4', '4.0.3 and up']\n",
      "\n",
      "\n",
      "Number of rows: 9660\n",
      "Number of columns: 13\n"
     ]
    }
   ],
   "source": [
    "# we have created new list for the non-duplicated data\n",
    "android_clean = []\n",
    "already_added = []\n",
    "\n",
    "for app in android:\n",
    "    name = app[0]\n",
    "    n_reviews = app[3]\n",
    "    if (n_reviews == max_reviews[name]) and (name not in already_added):\n",
    "        android_clean.append(app)\n",
    "        already_added.append(name)\n",
    "# We will quickly explore our android_clean list to confirm the number of rows is 9,569\n",
    "explore_data(android_clean, 0, 3, True)"
   ]
  },
  {
   "cell_type": "markdown",
   "id": "2440a36d",
   "metadata": {},
   "source": [
    "# Removing Non-English Apps\n",
    "- We'd like to only analyze apps developed for English speaking audiences. Both the data sets contain apps developed for non-English speaking audiences. We should remove the apps that contain non-English titles. The best way to do this is to look for any non-English characters in the app name and compare that to the ASCII system. Any character greater than an ASCII value of 127 should reveal that the app name has a non-English title.\n",
    "\n",
    "- We can use the built in Python function ord() to get the corresponding encoded value for a character in a string. We will loop through each title and check the ASCII value of each character."
   ]
  },
  {
   "cell_type": "code",
   "execution_count": 15,
   "id": "02d8b642",
   "metadata": {},
   "outputs": [
    {
     "name": "stdout",
     "output_type": "stream",
     "text": [
      "True\n",
      "False\n"
     ]
    }
   ],
   "source": [
    "def check_english(str):\n",
    "    for char in str:\n",
    "        if ord(char) > 127:\n",
    "            return False\n",
    "    return True\n",
    "\n",
    "print(check_english('Instagram'))\n",
    "print(check_english('爱奇艺PPS -《欢乐颂2》电视剧热播'))"
   ]
  },
  {
   "cell_type": "markdown",
   "id": "b2479aaf",
   "metadata": {},
   "source": [
    "- Some apps in the data set are English but have non-English characters in them such as emoji's and specialized characters. To minimize data loss, we will only remove the app from the data set if it contains 3 or more non-English ASCII characters"
   ]
  },
  {
   "cell_type": "code",
   "execution_count": 16,
   "id": "7a90baf7",
   "metadata": {},
   "outputs": [
    {
     "name": "stdout",
     "output_type": "stream",
     "text": [
      "True\n",
      "True\n"
     ]
    }
   ],
   "source": [
    "def check_english(str):\n",
    "    special_chars = 0\n",
    "    for char in str:\n",
    "        if ord(char) > 127:\n",
    "            special_chars += 1\n",
    "    if special_chars > 3:\n",
    "        return False\n",
    "    else:\n",
    "        return True\n",
    "\n",
    "print(check_english('Docs To Go™ Free Office Suite'))\n",
    "print(check_english('Instachat 😜'))"
   ]
  },
  {
   "cell_type": "markdown",
   "id": "8571f1ca",
   "metadata": {},
   "source": [
    "- Below we will use the check_english() function to filter out non-English apps for both Google and iOS data sets:"
   ]
  },
  {
   "cell_type": "code",
   "execution_count": 17,
   "id": "1174492a",
   "metadata": {},
   "outputs": [
    {
     "name": "stdout",
     "output_type": "stream",
     "text": [
      "['App', 'Category', 'Rating', 'Reviews', 'Size', 'Installs', 'Type', 'Price', 'Content Rating', 'Genres', 'Last Updated', 'Current Ver', 'Android Ver']\n",
      "\n",
      "\n",
      "['Photo Editor & Candy Camera & Grid & ScrapBook', 'ART_AND_DESIGN', '4.1', '159', '19M', '10,000+', 'Free', '0', 'Everyone', 'Art & Design', 'January 7, 2018', '1.0.0', '4.0.3 and up']\n",
      "\n",
      "\n",
      "['U Launcher Lite – FREE Live Cool Themes, Hide Apps', 'ART_AND_DESIGN', '4.7', '87510', '8.7M', '5,000,000+', 'Free', '0', 'Everyone', 'Art & Design', 'August 1, 2018', '1.2.4', '4.0.3 and up']\n",
      "\n",
      "\n",
      "Number of rows: 9615\n",
      "Number of columns: 13\n",
      "\n",
      "\n",
      "['size_bytes', 'currency', 'price', 'rating_count_tot', 'rating_count_ver', 'user_rating', 'user_rating_ver', 'ver', 'cont_rating', 'prime_genre', 'sup_devices.num', 'ipadSc_urls.num', 'lang.num', 'vpp_lic']\n",
      "\n",
      "\n",
      "['Facebook', '389879808', 'USD', '0.0', '2974676', '212', '3.5', '3.5', '95.0', '4+', 'Social Networking', '37', '1', '29', '1']\n",
      "\n",
      "\n",
      "['Instagram', '113954816', 'USD', '0.0', '2161558', '1289', '4.5', '4.0', '10.23', '12+', 'Photo & Video', '37', '0', '29', '1']\n",
      "\n",
      "\n",
      "Number of rows: 7198\n",
      "Number of columns: 14\n"
     ]
    }
   ],
   "source": [
    "android_english = []\n",
    "ios_english = []\n",
    "\n",
    "for app in android_clean:\n",
    "    name = app[0]\n",
    "    if check_english(name):\n",
    "        android_english.append(app)\n",
    "for app in ios:\n",
    "    name = app[1]\n",
    "    if check_english(name):\n",
    "        ios_english.append(app)\n",
    "\n",
    "explore_data(android_english, 0, 3, True)\n",
    "print('\\n')\n",
    "explore_data(ios_english, 0, 3, True)\n"
   ]
  },
  {
   "cell_type": "markdown",
   "id": "105f62f2",
   "metadata": {},
   "source": [
    "### Isolating the free apps\n",
    "- Our goal with this analysis is to identify the trends related to free apps that have in-app adds. We need to remove any apps in the data sets that have a cost to download:"
   ]
  },
  {
   "cell_type": "code",
   "execution_count": 18,
   "id": "4f1c5ea6",
   "metadata": {},
   "outputs": [
    {
     "name": "stdout",
     "output_type": "stream",
     "text": [
      "['Photo Editor & Candy Camera & Grid & ScrapBook', 'ART_AND_DESIGN', '4.1', '159', '19M', '10,000+', 'Free', '0', 'Everyone', 'Art & Design', 'January 7, 2018', '1.0.0', '4.0.3 and up']\n",
      "\n",
      "\n",
      "['U Launcher Lite – FREE Live Cool Themes, Hide Apps', 'ART_AND_DESIGN', '4.7', '87510', '8.7M', '5,000,000+', 'Free', '0', 'Everyone', 'Art & Design', 'August 1, 2018', '1.2.4', '4.0.3 and up']\n",
      "\n",
      "\n",
      "['Sketch - Draw & Paint', 'ART_AND_DESIGN', '4.5', '215644', '25M', '50,000,000+', 'Free', '0', 'Teen', 'Art & Design', 'June 8, 2018', 'Varies with device', '4.2 and up']\n",
      "\n",
      "\n",
      "Number of rows: 8861\n",
      "Number of columns: 13\n",
      "\n",
      "\n",
      "['NAVIRO(ナビロー) - カーナビ/バイクナビ/徒歩ナビが使える高性能ナビアプリ', '55756800', 'USD', '0.0', '0', '0', '0.0', '0.0', '2.2.9', '4+', 'Navigation', '37', '5', '1', '1']\n",
      "\n",
      "\n",
      "['Confusions de lettres', '5000192', 'USD', '2.99', '0', '0', '0.0', '0.0', '1.0.4', '4+', 'Education', '38', '5', '1', '1']\n",
      "\n",
      "\n",
      "['最長１週間の献立が簡単に作れるme:new（ミーニュー）', '39937024', 'USD', '0.0', '0', '0', '0.0', '0.0', '1,2.4', '4+', 'Food & Drink', '38', '4', '2', '1']\n",
      "\n",
      "\n",
      "Number of rows: 929\n",
      "Number of columns: 15\n"
     ]
    }
   ],
   "source": [
    "android_final = []\n",
    "ios_final = []\n",
    "\n",
    "for app in android_english:\n",
    "    price = app[7]\n",
    "    if price == '0':\n",
    "        android_final.append(app)\n",
    "for app in ios_english:\n",
    "    price = app[4]\n",
    "    if price == '0':\n",
    "        ios_final.append(app)\n",
    "      \n",
    "explore_data(android_final, 0, 3, True)\n",
    "print('\\n')\n",
    "explore_data(ios_final, 0, 3, True)"
   ]
  },
  {
   "cell_type": "markdown",
   "id": "ea1a22e4",
   "metadata": {},
   "source": [
    "- There are 8,864 Android apps and 3,222 iOS apps left to analyze. These are the cleaned data sets consisting of non-duplicate, English developed, and free apps"
   ]
  },
  {
   "cell_type": "markdown",
   "id": "68b51b55",
   "metadata": {},
   "source": [
    "# Common Apps by Genre\n",
    "- My aim is to find the apps that attract the most amount of users. Free apps that have in-app advertisements are dependent upon amount of users to be profitable. My validation strategy for an app idea will have 3 steps:\n",
    "\n",
    "- Build a minimal Android version of the app, and add it to Google Play.\n",
    "If the app has a good response from users, we then develop it further.\n",
    "If the app is profitable after six months, we also build an iOS version of the app and add it to the App Store.\n",
    "We need to find apps that are successful in both Android and Apple markets. I'll begin the analysis by generating a frequency table for the prime_genre column in the iOS data and Genres and Category columns of the Google Play data.\n",
    "\n",
    "I'll build 2 functions:\n",
    "\n",
    "- One to generate frequency tables that show percentages\n",
    "- One to display the tables in desc order"
   ]
  },
  {
   "cell_type": "code",
   "execution_count": 19,
   "id": "4f08c359",
   "metadata": {},
   "outputs": [
    {
     "name": "stdout",
     "output_type": "stream",
     "text": [
      "37 : 39.07427341227126\n",
      "38 : 31.86221743810549\n",
      "40 : 23.896663078579117\n",
      "43 : 3.229278794402583\n",
      "24 : 0.6458557588805167\n",
      "25 : 0.4305705059203444\n",
      "35 : 0.32292787944025836\n",
      "26 : 0.32292787944025836\n",
      "39 : 0.1076426264800861\n",
      "36 : 0.1076426264800861\n",
      "None\n"
     ]
    }
   ],
   "source": [
    "def freq_table(dataset, index):\n",
    "    table = {}\n",
    "    total = 0\n",
    "    \n",
    "    for row in dataset:\n",
    "        total += 1\n",
    "        value = row[index]\n",
    "        if value in table:\n",
    "            table[value] += 1\n",
    "        else:\n",
    "            table[value] = 1\n",
    "    table_percentage = {}\n",
    "    for key in table:\n",
    "        percent = (table[key] / total) * 100\n",
    "        table_percentage[key] = percent\n",
    "    return table_percentage\n",
    "\n",
    "def display_table(dataset, index):\n",
    "    table = freq_table(dataset, index)\n",
    "    table_display = []\n",
    "    for key in table:\n",
    "        key_val_as_tuple = (table[key], key)\n",
    "        table_display.append(key_val_as_tuple)\n",
    "    table_sorted = sorted(table_display, reverse = True)\n",
    "    for entry in table_sorted:\n",
    "        print(entry[1], ':', entry[0])\n",
    "\n",
    "print(display_table(ios_final, 11))"
   ]
  },
  {
   "cell_type": "markdown",
   "id": "9c0119d7",
   "metadata": {},
   "source": [
    "Of the free English apps in the iOS data, more than 58% are Games. The next closest genre is Entertainment with close to 8%, followed by Photo & Video with almost 5%.\n",
    "\n",
    "The App Store is dominated by apps developed for fun, not as many for practical use. But just because these apps have the highest frequencies does not imply that they have as many users.\n",
    "\n",
    "We'll continue our analysis with the Google Play data set:"
   ]
  },
  {
   "cell_type": "code",
   "execution_count": 20,
   "id": "7f5b9f06",
   "metadata": {},
   "outputs": [
    {
     "name": "stdout",
     "output_type": "stream",
     "text": [
      "FAMILY : 18.936914569461685\n",
      "GAME : 9.694165444080802\n",
      "TOOLS : 8.452770567656021\n",
      "BUSINESS : 4.593161042771697\n",
      "LIFESTYLE : 3.9047511567543167\n",
      "PRODUCTIVITY : 3.8934657487868187\n",
      "FINANCE : 3.7016138133393524\n",
      "MEDICAL : 3.521047285859384\n",
      "SPORTS : 3.3969077982169056\n",
      "PERSONALIZATION : 3.3066245344769216\n",
      "COMMUNICATION : 3.2389120866719328\n",
      "HEALTH_AND_FITNESS : 3.080916375126961\n",
      "PHOTOGRAPHY : 2.9454914795169844\n",
      "NEWS_AND_MAGAZINES : 2.7987811759395105\n",
      "SOCIAL : 2.663356280329534\n",
      "TRAVEL_AND_LOCAL : 2.3360794492720913\n",
      "SHOPPING : 2.245796185532107\n",
      "BOOKS_AND_REFERENCE : 2.144227513824625\n",
      "DATING : 1.8620923146371742\n",
      "VIDEO_PLAYERS : 1.794379866832186\n",
      "MAPS_AND_NAVIGATION : 1.3993905879697552\n",
      "FOOD_AND_DRINK : 1.2413948764247829\n",
      "EDUCATION : 1.1736824286197944\n",
      "ENTERTAINMENT : 0.9592596772373322\n",
      "LIBRARIES_AND_DEMO : 0.9366888613023362\n",
      "AUTO_AND_VEHICLES : 0.9254034533348381\n",
      "HOUSE_AND_HOME : 0.8238347816273558\n",
      "WEATHER : 0.8012639656923597\n",
      "EVENTS : 0.7109807019523756\n",
      "PARENTING : 0.6545536621148855\n",
      "ART_AND_DESIGN : 0.6432682541473874\n",
      "COMICS : 0.6206974382123914\n",
      "BEAUTY : 0.5981266222773953\n",
      "None\n"
     ]
    }
   ],
   "source": [
    "print(display_table(android_final, 1)) #Category"
   ]
  },
  {
   "cell_type": "markdown",
   "id": "5fb402b3",
   "metadata": {},
   "source": [
    "- Practical applications appear to be better represented in the Google Play store. We can confirm this further by examing the frequency table for the Genres column\n"
   ]
  },
  {
   "cell_type": "code",
   "execution_count": 21,
   "id": "a398f0b6",
   "metadata": {},
   "outputs": [
    {
     "name": "stdout",
     "output_type": "stream",
     "text": [
      "Tools : 8.441485159688522\n",
      "Entertainment : 6.071549486513937\n",
      "Education : 5.349283376594064\n",
      "Business : 4.593161042771697\n",
      "Productivity : 3.8934657487868187\n",
      "Lifestyle : 3.8934657487868187\n",
      "Finance : 3.7016138133393524\n",
      "Medical : 3.521047285859384\n",
      "Sports : 3.464620246021894\n",
      "Personalization : 3.3066245344769216\n",
      "Communication : 3.2389120866719328\n",
      "Action : 3.103487191061957\n",
      "Health & Fitness : 3.080916375126961\n",
      "Photography : 2.9454914795169844\n",
      "News & Magazines : 2.7987811759395105\n",
      "Social : 2.663356280329534\n",
      "Travel & Local : 2.3247940413045933\n",
      "Shopping : 2.245796185532107\n",
      "Books & Reference : 2.144227513824625\n",
      "Simulation : 2.0426588421171425\n",
      "Dating : 1.8620923146371742\n",
      "Arcade : 1.8508069066696762\n",
      "Video Players & Editors : 1.7718090508971898\n",
      "Casual : 1.749238234962194\n",
      "Maps & Navigation : 1.3993905879697552\n",
      "Food & Drink : 1.2413948764247829\n",
      "Puzzle : 1.1285407967498025\n",
      "Racing : 0.9931159011398263\n",
      "Role Playing : 0.9366888613023362\n",
      "Libraries & Demo : 0.9366888613023362\n",
      "Auto & Vehicles : 0.9254034533348381\n",
      "Strategy : 0.91411804536734\n",
      "House & Home : 0.8238347816273558\n",
      "Weather : 0.8012639656923597\n",
      "Events : 0.7109807019523756\n",
      "Adventure : 0.6771244780498815\n",
      "Comics : 0.6094120302448933\n",
      "Beauty : 0.5981266222773953\n",
      "Art & Design : 0.5981266222773953\n",
      "Parenting : 0.49655795056991314\n",
      "Card : 0.440130910732423\n",
      "Casino : 0.42884550276492495\n",
      "Trivia : 0.4175600947974269\n",
      "Educational;Education : 0.3949892788624309\n",
      "Educational : 0.3724184629274348\n",
      "Board : 0.3724184629274348\n",
      "Education;Education : 0.33856223902494076\n",
      "Word : 0.25956438325245457\n",
      "Casual;Pretend Play : 0.23699356731745852\n",
      "Music : 0.20313734341496445\n",
      "Puzzle;Brain Games : 0.1805665274799684\n",
      "Racing;Action & Adventure : 0.16928111951247038\n",
      "Entertainment;Music & Video : 0.16928111951247038\n",
      "Casual;Brain Games : 0.13542489560997628\n",
      "Casual;Action & Adventure : 0.13542489560997628\n",
      "Arcade;Action & Adventure : 0.12413948764247829\n",
      "Action;Action & Adventure : 0.10156867170748222\n",
      "Educational;Pretend Play : 0.0902832637399842\n",
      "Board;Brain Games : 0.0902832637399842\n",
      "Simulation;Action & Adventure : 0.07899785577248618\n",
      "Parenting;Education : 0.07899785577248618\n",
      "Entertainment;Brain Games : 0.07899785577248618\n",
      "Parenting;Music & Video : 0.06771244780498814\n",
      "Educational;Brain Games : 0.06771244780498814\n",
      "Casual;Creativity : 0.06771244780498814\n",
      "Art & Design;Creativity : 0.06771244780498814\n",
      "Education;Pretend Play : 0.05642703983749013\n",
      "Role Playing;Pretend Play : 0.0451416318699921\n",
      "Education;Creativity : 0.0451416318699921\n",
      "Role Playing;Action & Adventure : 0.03385622390249407\n",
      "Puzzle;Action & Adventure : 0.03385622390249407\n",
      "Entertainment;Creativity : 0.03385622390249407\n",
      "Entertainment;Action & Adventure : 0.03385622390249407\n",
      "Educational;Creativity : 0.03385622390249407\n",
      "Educational;Action & Adventure : 0.03385622390249407\n",
      "Education;Music & Video : 0.03385622390249407\n",
      "Education;Brain Games : 0.03385622390249407\n",
      "Education;Action & Adventure : 0.03385622390249407\n",
      "Adventure;Action & Adventure : 0.03385622390249407\n",
      "Video Players & Editors;Music & Video : 0.02257081593499605\n",
      "Sports;Action & Adventure : 0.02257081593499605\n",
      "Simulation;Pretend Play : 0.02257081593499605\n",
      "Puzzle;Creativity : 0.02257081593499605\n",
      "Music;Music & Video : 0.02257081593499605\n",
      "Entertainment;Pretend Play : 0.02257081593499605\n",
      "Casual;Education : 0.02257081593499605\n",
      "Board;Action & Adventure : 0.02257081593499605\n",
      "Video Players & Editors;Creativity : 0.011285407967498025\n",
      "Trivia;Education : 0.011285407967498025\n",
      "Travel & Local;Action & Adventure : 0.011285407967498025\n",
      "Tools;Education : 0.011285407967498025\n",
      "Strategy;Education : 0.011285407967498025\n",
      "Strategy;Creativity : 0.011285407967498025\n",
      "Strategy;Action & Adventure : 0.011285407967498025\n",
      "Simulation;Education : 0.011285407967498025\n",
      "Role Playing;Brain Games : 0.011285407967498025\n",
      "Racing;Pretend Play : 0.011285407967498025\n",
      "Puzzle;Education : 0.011285407967498025\n",
      "Parenting;Brain Games : 0.011285407967498025\n",
      "Music & Audio;Music & Video : 0.011285407967498025\n",
      "Lifestyle;Pretend Play : 0.011285407967498025\n",
      "Lifestyle;Education : 0.011285407967498025\n",
      "Health & Fitness;Education : 0.011285407967498025\n",
      "Health & Fitness;Action & Adventure : 0.011285407967498025\n",
      "Entertainment;Education : 0.011285407967498025\n",
      "Communication;Creativity : 0.011285407967498025\n",
      "Comics;Creativity : 0.011285407967498025\n",
      "Casual;Music & Video : 0.011285407967498025\n",
      "Card;Brain Games : 0.011285407967498025\n",
      "Card;Action & Adventure : 0.011285407967498025\n",
      "Books & Reference;Education : 0.011285407967498025\n",
      "Art & Design;Pretend Play : 0.011285407967498025\n",
      "Art & Design;Action & Adventure : 0.011285407967498025\n",
      "Arcade;Pretend Play : 0.011285407967498025\n",
      "Adventure;Education : 0.011285407967498025\n",
      "None\n"
     ]
    }
   ],
   "source": [
    "print(display_table(android_final, 9)) #Category\n"
   ]
  },
  {
   "cell_type": "markdown",
   "id": "3ae5d2bf",
   "metadata": {},
   "source": [
    "The Genres column is much more granular than the Category column. We don't need the granular genres for our analysis right now so we will stick with using Category going forward. The Apple Store is dominated by apps designed for fun and games, while the Google Play store has a blend of for-fun and practical apps. Next in our analysis will be to determine which tpyes of apps have the most users.\n",
    "\n",
    " # Most Popular Apps by Genre\n",
    "The easiest way to determine popularity of an app is to calculate the average number of installs per category. We can use the Installs column for the Google Play data but unfortunately iOS does not have a similar column. We can use the number of user ratings as a proxy. This number can be found in the rating_count_tot column.\n",
    "\n",
    "Below I'll calculate the average number of user ratings / installs per app on the App Store:"
   ]
  },
  {
   "cell_type": "code",
   "execution_count": 22,
   "id": "31709405",
   "metadata": {},
   "outputs": [
    {
     "name": "stdout",
     "output_type": "stream",
     "text": [
      "37 : 0.0\n",
      "38 : 0.0\n",
      "40 : 0.0\n",
      "43 : 0.0\n",
      "25 : 0.0\n",
      "24 : 0.0\n",
      "35 : 0.0\n",
      "26 : 0.0\n",
      "36 : 0.0\n",
      "39 : 0.0\n"
     ]
    }
   ],
   "source": [
    "ios_genres = freq_table(ios_final, 11)\n",
    "\n",
    "for genre in ios_genres:\n",
    "    total = 0\n",
    "    len_genre = 0\n",
    "    \n",
    "    for app in ios_final:\n",
    "        genre_app = app[11]\n",
    "        if genre_app == genre:\n",
    "            total += float(app[5])\n",
    "            len_genre += 1\n",
    "    avg_rating = total / len_genre\n",
    "    print(genre, ':', avg_rating)"
   ]
  },
  {
   "cell_type": "markdown",
   "id": "18a045ef",
   "metadata": {},
   "source": [
    "- Navigation has the highest number of reviews, but that figure is being skewed by a few large apps like Google Maps and Waze:"
   ]
  },
  {
   "cell_type": "code",
   "execution_count": 23,
   "id": "d3d60047",
   "metadata": {},
   "outputs": [],
   "source": [
    "for app in ios_final:\n",
    "    if app[11] == 'Navigation':\n",
    "        print(app[1], ':', app[5])"
   ]
  },
  {
   "cell_type": "markdown",
   "id": "c1e8e66e",
   "metadata": {},
   "source": [
    "- Our goal is to find popular app genres but some of these apps may seem more poular than they are. Many categories such as Navigation, Social Networking, and Music are dominated by a few highly influential apps (Facebook, Twitter, Spotify etc.).\n",
    "\n",
    "Reference apps have 74,942 ratings. A majority of these are coming from 2 large apps, the Bible and Dictionary.com"
   ]
  },
  {
   "cell_type": "code",
   "execution_count": 24,
   "id": "9f44665b",
   "metadata": {},
   "outputs": [],
   "source": [
    "for app in ios_final:\n",
    "    if app[11] == 'Reference':\n",
    "        print(app[1], ':', app[5])"
   ]
  },
  {
   "cell_type": "code",
   "execution_count": 25,
   "id": "2ebc230d",
   "metadata": {},
   "outputs": [],
   "source": [
    "for app in ios_final:\n",
    "    if app[11] == 'Productivity':\n",
    "        print(app[1], ':', app[5])"
   ]
  },
  {
   "cell_type": "markdown",
   "id": "688e3c84",
   "metadata": {},
   "source": [
    "- Let's review the number of installs by category on the Google Play Store. One thing to note about how this data set calculates install numbers is they are not exact, rather it is a tiered structure. See below:"
   ]
  },
  {
   "cell_type": "code",
   "execution_count": 26,
   "id": "7d174624",
   "metadata": {},
   "outputs": [
    {
     "name": "stdout",
     "output_type": "stream",
     "text": [
      "1,000,000+ : 15.743144114659746\n",
      "100,000+ : 11.544972350750479\n",
      "10,000,000+ : 10.518000225708159\n",
      "10,000+ : 10.202008802618215\n",
      "1,000+ : 8.396343527818532\n",
      "100+ : 6.91795508407629\n",
      "5,000,000+ : 6.838957228303803\n",
      "500,000+ : 5.574991535944025\n",
      "50,000+ : 4.773727570251665\n",
      "5,000+ : 4.51416318699921\n",
      "10+ : 3.5436181017943795\n",
      "500+ : 3.250197494639431\n",
      "50,000,000+ : 2.290937817402099\n",
      "100,000,000+ : 2.1216566978896285\n",
      "50+ : 1.9185193544746644\n",
      "5+ : 0.7899785577248618\n",
      "1+ : 0.5078433585374111\n",
      "500,000,000+ : 0.27084979121995256\n",
      "1,000,000,000+ : 0.22570815934996052\n",
      "0+ : 0.0451416318699921\n",
      "0 : 0.011285407967498025\n"
     ]
    }
   ],
   "source": [
    "display_table(android_final, 5) #installs column\n",
    "android_categories = freq_table(android_final, 1)"
   ]
  },
  {
   "cell_type": "code",
   "execution_count": null,
   "id": "57f9efd7",
   "metadata": {},
   "outputs": [],
   "source": []
  }
 ],
 "metadata": {
  "kernelspec": {
   "display_name": "Python 3 (ipykernel)",
   "language": "python",
   "name": "python3"
  },
  "language_info": {
   "codemirror_mode": {
    "name": "ipython",
    "version": 3
   },
   "file_extension": ".py",
   "mimetype": "text/x-python",
   "name": "python",
   "nbconvert_exporter": "python",
   "pygments_lexer": "ipython3",
   "version": "3.9.12"
  }
 },
 "nbformat": 4,
 "nbformat_minor": 5
}
